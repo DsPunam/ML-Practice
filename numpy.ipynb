{
 "cells": [
  {
   "cell_type": "code",
   "execution_count": 2,
   "metadata": {},
   "outputs": [
    {
     "name": "stdout",
     "output_type": "stream",
     "text": [
      "[ 5.  8. 20.  4. 65.]\n",
      "[ 5  8 79  2 41]\n"
     ]
    },
    {
     "data": {
      "text/plain": "dtype('float32')"
     },
     "execution_count": 2,
     "metadata": {},
     "output_type": "execute_result"
    }
   ],
   "source": [
    "#numpy is used to work in array.the array object in numpy is called ndarray\r\n",
    "import numpy as np\r\n",
    "a=np.array([5,8,20,4,65],'f')#we create a numpy ndarray object by array() \r\n",
    "#function\r\n",
    "b=np.array((5,8,79,2,41))\r\n",
    "print(a)\r\n",
    "print(b)\r\n",
    "type(b)\r\n",
    "a.dtype"
   ]
  },
  {
   "cell_type": "code",
   "execution_count": 3,
   "metadata": {},
   "outputs": [
    {
     "name": "stdout",
     "output_type": "stream",
     "text": [
      "[[12  8  7  6]\n",
      " [ 8  3  4  6]]\n"
     ]
    },
    {
     "data": {
      "text/plain": "4"
     },
     "execution_count": 3,
     "metadata": {},
     "output_type": "execute_result"
    }
   ],
   "source": [
    "#numpy dimension\r\n",
    "arr=np.array([[12,8,7,6],[8,3,4,6]])\r\n",
    "print(arr)\r\n",
    "arr.ndim #to get the number of dimension\r\n",
    "arr[1,2] #to get a certain element from an array\r\n",
    "#here the size of the elements in the higher dimensional array\r\n",
    "#must be same"
   ]
  },
  {
   "cell_type": "code",
   "execution_count": 4,
   "metadata": {},
   "outputs": [
    {
     "data": {
      "text/plain": "48"
     },
     "execution_count": 4,
     "metadata": {},
     "output_type": "execute_result"
    }
   ],
   "source": [
    "#shape of array\r\n",
    "c=np.array([[[1,8,5],[3,8,7]],[[4,6,3],[10,5,9]]])\r\n",
    "c.shape #gives the number of 2D array and the number of 1D array\r\n",
    "#contained by each 2D array and the number of scalars contained by each 1D\r\n",
    "#array\r\n",
    "c[0,1,2]\r\n",
    "c.size #number of scalar elements contained by an array\r\n",
    "c.nbytes"
   ]
  },
  {
   "cell_type": "code",
   "execution_count": 5,
   "metadata": {},
   "outputs": [
    {
     "name": "stdout",
     "output_type": "stream",
     "text": [
      "range(0, 50)\n",
      "[5, 11, 17, 23, 29, 35, 41, 47]\n"
     ]
    },
    {
     "data": {
      "text/plain": "46"
     },
     "execution_count": 5,
     "metadata": {},
     "output_type": "execute_result"
    }
   ],
   "source": [
    "np.arange(10) # by default this function take the starting value 0\r\n",
    "np.arange(2,10,2) #the syntax is np.arange(starting index,ending index,jump)\r\n",
    "print(range(50)) #this does not give any list\r\n",
    "print(list(range(5,50,6)))\r\n",
    "np.random.permutation(np.arange(10))# permutation function rearrange \r\n",
    "#the elements of the list randomly\r\n",
    "np.random.randint(45,60) #gives a random value between 45 and 60"
   ]
  },
  {
   "cell_type": "code",
   "execution_count": 6,
   "metadata": {},
   "outputs": [
    {
     "data": {
      "text/plain": "array([[0, 0],\n       [0, 0],\n       [0, 0],\n       [0, 0]])"
     },
     "execution_count": 6,
     "metadata": {},
     "output_type": "execute_result"
    }
   ],
   "source": [
    "np.zeros(5,dtype='int') #gives an array by given shape and \r\n",
    "#datatype filled with zeros\r\n",
    "#as it contains one argument it gives an one dimensional array\r\n",
    "np.zeros((4,2),dtype='int') #it is obviously a two dimensional array"
   ]
  },
  {
   "cell_type": "code",
   "execution_count": 7,
   "metadata": {},
   "outputs": [
    {
     "data": {
      "text/plain": "array([[1., 1., 1., 1., 1., 1., 1.],\n       [1., 1., 1., 1., 1., 1., 1.],\n       [1., 1., 1., 1., 1., 1., 1.],\n       [1., 1., 1., 1., 1., 1., 1.],\n       [1., 1., 1., 1., 1., 1., 1.]])"
     },
     "execution_count": 7,
     "metadata": {},
     "output_type": "execute_result"
    }
   ],
   "source": [
    "np.ones(8,dtype=\"int\")\r\n",
    "np.ones((5,7)) #by default it takes only floating values"
   ]
  },
  {
   "cell_type": "code",
   "execution_count": 8,
   "metadata": {},
   "outputs": [
    {
     "name": "stdout",
     "output_type": "stream",
     "text": [
      "[0.39543721 0.52000558 0.00268972 0.78155718 0.33260228 0.18909743\n",
      " 0.43347776 0.92515506 0.02611581 0.34833897]\n"
     ]
    }
   ],
   "source": [
    "A = np.random.rand(10) # By default generates random numbers b/w 0 to 1\r\n",
    "print(A)"
   ]
  },
  {
   "cell_type": "code",
   "execution_count": 9,
   "metadata": {},
   "outputs": [
    {
     "name": "stdout",
     "output_type": "stream",
     "text": [
      "[[0.73079496 0.41316116 0.71633045]\n",
      " [0.38791803 0.36993991 0.41279737]\n",
      " [0.11072657 0.45242005 0.71831399]\n",
      " [0.04352979 0.92920377 0.25419688]]\n"
     ]
    },
    {
     "data": {
      "text/plain": "(4, 3)"
     },
     "execution_count": 9,
     "metadata": {},
     "output_type": "execute_result"
    }
   ],
   "source": [
    "c=np.random.rand(4,3) #here it gives a two dimensional array and takes random \r\n",
    "#value in the semi closed interval [0,1)\r\n",
    "print(c)\r\n",
    "c.shape #it gives the order of the matrix"
   ]
  },
  {
   "cell_type": "code",
   "execution_count": 10,
   "metadata": {},
   "outputs": [
    {
     "data": {
      "text/plain": "array([[13, 18, 19,  0, 14],\n       [ 1, 17,  3, 12,  6],\n       [ 9, 16, 11, 10, 15],\n       [ 5,  2,  8,  4,  7]])"
     },
     "execution_count": 10,
     "metadata": {},
     "output_type": "execute_result"
    }
   ],
   "source": [
    "np.arange(50).reshape(5,10) #it gives a 5 by 10 matrix between the \r\n",
    "#numbers 0 to 50\r\n",
    "np.random.permutation(20).reshape(4,5)"
   ]
  },
  {
   "cell_type": "code",
   "execution_count": 11,
   "metadata": {},
   "outputs": [
    {
     "name": "stdout",
     "output_type": "stream",
     "text": [
      "[ 3  4  5  6  7  8  9 10]\n",
      "[ 3  4  5  6 89  8  9 10]\n",
      "[ 0  1  2  3  4  5  6 89  8  9 10 11 12 13 14 15 16 17 18 19]\n",
      "7\n",
      "[ 0  1  2  3  4  5  6  7  8  9 10 11 12 13 14 15 16 17 18 19]\n"
     ]
    }
   ],
   "source": [
    "a=np.arange(20)\r\n",
    "b=a[3:11]\r\n",
    "print(b)\r\n",
    "b[4]=89\r\n",
    "print(b)#for slicing the big difference between normal list and numpy array is \r\n",
    "#when we change any element in sliced array the same change will occur the\r\n",
    "#main array\r\n",
    "print(a)\r\n",
    "idx=np.argwhere(a==89)[0][0] #here we can locate the index where the \r\n",
    "#changes is occured\r\n",
    "print(idx)\r\n",
    "a[idx]=7\r\n",
    "print(a)"
   ]
  },
  {
   "cell_type": "code",
   "execution_count": 12,
   "metadata": {},
   "outputs": [
    {
     "name": "stdout",
     "output_type": "stream",
     "text": [
      "[ 3  4  5  6  7  8  9 10]\n",
      "[ 3  4  5  6  7 20  9 10]\n"
     ]
    },
    {
     "data": {
      "text/plain": "8"
     },
     "execution_count": 12,
     "metadata": {},
     "output_type": "execute_result"
    }
   ],
   "source": [
    "b=a[3:11].copy()#if we use the copy function then any element in a will not\r\n",
    "#be affected by any changes of b\r\n",
    "print(b)\r\n",
    "#other properties are similar as list in python\r\n",
    "a[::5]\r\n",
    "a[::-5]\r\n",
    "b[5]=20\r\n",
    "print(b)\r\n",
    "a[8] #this gives us 8 since we use copy function)"
   ]
  },
  {
   "cell_type": "code",
   "execution_count": 13,
   "metadata": {},
   "outputs": [
    {
     "name": "stdout",
     "output_type": "stream",
     "text": [
      "[[2. 3. 5. 6. 5. 0.]\n",
      " [4. 1. 4. 9. 7. 3.]\n",
      " [0. 7. 3. 9. 7. 8.]\n",
      " [5. 7. 6. 9. 2. 8.]\n",
      " [5. 1. 7. 5. 4. 3.]]\n"
     ]
    }
   ],
   "source": [
    "a=np.round(10*(np.random.rand(5,6)))#the round function round off the rational\r\n",
    "#values into integer values\r\n",
    "print(a)"
   ]
  },
  {
   "cell_type": "code",
   "execution_count": 14,
   "metadata": {},
   "outputs": [
    {
     "data": {
      "text/plain": "array([0., 3., 8., 8., 3.])"
     },
     "execution_count": 14,
     "metadata": {},
     "output_type": "execute_result"
    }
   ],
   "source": [
    "a[2,2] #to get a particular element from a matrix\r\n",
    "a[3,:] #to get a particular row\r\n",
    "a[:,5] #to get a particular coloumn"
   ]
  },
  {
   "cell_type": "code",
   "execution_count": 15,
   "metadata": {},
   "outputs": [
    {
     "data": {
      "text/plain": "array([[4., 9.],\n       [3., 9.]])"
     },
     "execution_count": 15,
     "metadata": {},
     "output_type": "execute_result"
    }
   ],
   "source": [
    "a.T #to transpose a matrix\r\n",
    "a[1:3,2:4] #to get a submatrix"
   ]
  },
  {
   "cell_type": "code",
   "execution_count": 16,
   "metadata": {},
   "outputs": [
    {
     "data": {
      "text/plain": "array([[ 0.59540648, -1.76084723,  4.95226256],\n       [-2.00378455,  3.41341999, -1.96599138],\n       [ 3.43683145, -3.01119736, -1.05781505]])"
     },
     "execution_count": 16,
     "metadata": {},
     "output_type": "execute_result"
    }
   ],
   "source": [
    "import numpy.linalg as la #widely used for solving problems in linear algebra\r\n",
    "la.inv(np.random.rand(3,3))"
   ]
  },
  {
   "cell_type": "code",
   "execution_count": 17,
   "metadata": {},
   "outputs": [
    {
     "data": {
      "text/plain": "array([[2., 3., 5., 6., 5., 0.],\n       [4., 1., 4., 9., 7., 3.],\n       [0., 7., 3., 9., 7., 8.],\n       [5., 7., 6., 9., 2., 8.],\n       [5., 1., 7., 5., 4., 3.]])"
     },
     "execution_count": 17,
     "metadata": {},
     "output_type": "execute_result"
    }
   ],
   "source": [
    "a"
   ]
  },
  {
   "cell_type": "code",
   "execution_count": 18,
   "metadata": {},
   "outputs": [
    {
     "name": "stdout",
     "output_type": "stream",
     "text": [
      "[[0. 2. 3. 5. 5. 6.]\n",
      " [1. 3. 4. 4. 7. 9.]\n",
      " [0. 3. 7. 7. 8. 9.]\n",
      " [2. 5. 6. 7. 8. 9.]\n",
      " [1. 3. 4. 5. 5. 7.]]\n"
     ]
    }
   ],
   "source": [
    "a.sort(axis=1) #sorting in ascending order of all coloumns\r\n",
    "print(a)"
   ]
  },
  {
   "cell_type": "code",
   "execution_count": 19,
   "metadata": {},
   "outputs": [
    {
     "data": {
      "text/plain": "array([[0., 2., 3., 4., 5., 6.],\n       [0., 3., 4., 5., 5., 7.],\n       [1., 3., 4., 5., 7., 9.],\n       [1., 3., 6., 7., 8., 9.],\n       [2., 5., 7., 7., 8., 9.]])"
     },
     "execution_count": 19,
     "metadata": {},
     "output_type": "execute_result"
    }
   ],
   "source": [
    "a.sort(axis=0) #sort by row\r\n",
    "a"
   ]
  },
  {
   "cell_type": "code",
   "execution_count": 23,
   "metadata": {},
   "outputs": [
    {
     "data": {
      "text/plain": "array([ 0,  1,  2,  3,  4,  5,  6,  7,  8,  9, 10, 11, 12, 13, 14, 15, 16,\n       17, 18, 19, 20, 21, 22, 23, 24, 25, 26, 27, 28, 29, 30, 31, 32, 33,\n       34, 35, 36, 37, 38, 39, 40, 41, 42, 43, 44, 45, 46, 47, 48, 49])"
     },
     "execution_count": 23,
     "metadata": {},
     "output_type": "execute_result"
    }
   ],
   "source": [
    "a=np.arange(50)\r\n",
    "b=a[[3,8,9]] #it gives a array\r\n",
    "b[1]=10 #if we change a element in b then this will not create a effect on a\r\n",
    "b"
   ]
  },
  {
   "cell_type": "code",
   "execution_count": 27,
   "metadata": {},
   "outputs": [
    {
     "name": "stdout",
     "output_type": "stream",
     "text": [
      "[ True False  True False  True False  True False  True False  True False\n",
      "  True False  True False  True False  True False  True False  True False\n",
      "  True False  True False  True False  True False  True False  True False\n",
      "  True False  True False  True False  True False  True False  True False\n",
      "  True False]\n"
     ]
    }
   ],
   "source": [
    "b=a[a>30] \r\n",
    "#a boolean array in numpy is contained by boolean values\r\n",
    "bool_arr=(a%2==0)\r\n",
    "print(bool_arr) #this gives a boolean array"
   ]
  },
  {
   "cell_type": "code",
   "execution_count": 30,
   "metadata": {},
   "outputs": [
    {
     "data": {
      "text/plain": "array([23, 24, 25, 26, 27, 28, 29, 30, 31, 32])"
     },
     "execution_count": 30,
     "metadata": {},
     "output_type": "execute_result"
    }
   ],
   "source": [
    "b=a[(a>22) & (a<33)]\r\n",
    "b"
   ]
  },
  {
   "cell_type": "code",
   "execution_count": 33,
   "metadata": {},
   "outputs": [
    {
     "data": {
      "text/plain": "array([[4., 7., 3.],\n       [8., 5., 8.]])"
     },
     "execution_count": 33,
     "metadata": {},
     "output_type": "execute_result"
    }
   ],
   "source": [
    "a=np.round(10*(np.random.rand(2,3)))\r\n",
    "a"
   ]
  },
  {
   "cell_type": "code",
   "execution_count": 34,
   "metadata": {},
   "outputs": [
    {
     "data": {
      "text/plain": "array([[ 8., 11.,  7.],\n       [12.,  9., 12.]])"
     },
     "execution_count": 34,
     "metadata": {},
     "output_type": "execute_result"
    }
   ],
   "source": [
    "a+4 #this is called broadcasting"
   ]
  },
  {
   "cell_type": "code",
   "execution_count": 39,
   "metadata": {},
   "outputs": [
    {
     "data": {
      "text/plain": "array([[4., 7., 3.],\n       [9., 6., 9.]])"
     },
     "execution_count": 39,
     "metadata": {},
     "output_type": "execute_result"
    }
   ],
   "source": [
    "a+(np.arange(2).reshape(2,1))"
   ]
  },
  {
   "cell_type": "code",
   "execution_count": 41,
   "metadata": {},
   "outputs": [
    {
     "data": {
      "text/plain": "array([[2., 7.],\n       [1., 5.]])"
     },
     "execution_count": 41,
     "metadata": {},
     "output_type": "execute_result"
    }
   ],
   "source": [
    "b=np.round(10*(np.random.rand(2,2)))\r\n",
    "b"
   ]
  },
  {
   "cell_type": "code",
   "execution_count": 42,
   "metadata": {},
   "outputs": [
    {
     "data": {
      "text/plain": "array([[4., 7., 3.],\n       [8., 5., 8.]])"
     },
     "execution_count": 42,
     "metadata": {},
     "output_type": "execute_result"
    }
   ],
   "source": [
    "a"
   ]
  },
  {
   "cell_type": "code",
   "execution_count": 44,
   "metadata": {},
   "outputs": [
    {
     "data": {
      "text/plain": "array([[4., 7., 3., 2., 7.],\n       [8., 5., 8., 1., 5.]])"
     },
     "execution_count": 44,
     "metadata": {},
     "output_type": "execute_result"
    }
   ],
   "source": [
    "c=np.hstack((a,b)) #the vstack function concatenate the two array\r\n",
    "#horizontally\r\n",
    "c"
   ]
  },
  {
   "cell_type": "code",
   "execution_count": 49,
   "metadata": {},
   "outputs": [
    {
     "data": {
      "text/plain": "array([0, 1, 2, 3, 4, 5, 6, 7, 8, 9])"
     },
     "execution_count": 49,
     "metadata": {},
     "output_type": "execute_result"
    }
   ],
   "source": [
    "a=np.random.permutation(np.arange(10))\r\n",
    "a.sort() #this sort function will sort the array in ascending order\r\n",
    "a"
   ]
  },
  {
   "cell_type": "code",
   "execution_count": 50,
   "metadata": {},
   "outputs": [
    {
     "data": {
      "text/plain": "array([0, 1, 2, 3, 4, 5, 6, 7, 8, 9])"
     },
     "execution_count": 50,
     "metadata": {},
     "output_type": "execute_result"
    }
   ],
   "source": [
    "np.sort(a) #another way to sort"
   ]
  },
  {
   "cell_type": "code",
   "execution_count": 52,
   "metadata": {},
   "outputs": [
    {
     "data": {
      "text/plain": "array([9, 8, 7, 6, 5, 4, 3, 2, 1, 0])"
     },
     "execution_count": 52,
     "metadata": {},
     "output_type": "execute_result"
    }
   ],
   "source": [
    "#for sorting in descending order\r\n",
    "a.sort()\r\n",
    "b=a[::-1]\r\n",
    "b"
   ]
  },
  {
   "cell_type": "code",
   "execution_count": 54,
   "metadata": {},
   "outputs": [
    {
     "name": "stdout",
     "output_type": "stream",
     "text": [
      "178 ms ± 1.07 ms per loop (mean ± std. dev. of 7 runs, 10 loops each)\n",
      "1.38 ms ± 12 µs per loop (mean ± std. dev. of 7 runs, 1,000 loops each)\n"
     ]
    }
   ],
   "source": [
    "b=np.random.rand(1000000)\r\n",
    "%timeit sum(b)\r\n",
    "%timeit np.sum(b) #the numpy package is faster than anything in python"
   ]
  }
 ],
 "metadata": {
  "kernelspec": {
   "display_name": "Python 3.9.7 64-bit (conda)",
   "name": "python397jvsc74a57bd0fdebe27a0edf972974300faffddbd5ec6c56b7bf95d3e9b1fb808bb4f4db731b"
  },
  "language_info": {
   "codemirror_mode": {
    "name": "ipython",
    "version": 3
   },
   "file_extension": ".py",
   "mimetype": "text/x-python",
   "name": "python",
   "nbconvert_exporter": "python",
   "pygments_lexer": "ipython3",
   "version": "3.9.7"
  },
  "orig_nbformat": 2
 },
 "nbformat": 4,
 "nbformat_minor": 2
}